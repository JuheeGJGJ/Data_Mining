{
 "cells": [
  {
   "cell_type": "code",
   "execution_count": 1,
   "metadata": {},
   "outputs": [],
   "source": [
    "import numpy as np"
   ]
  },
  {
   "cell_type": "markdown",
   "metadata": {},
   "source": [
    "# #Problem 1 (10 pts)\n",
    "'Hello, world!' 문장을 출력하는 cell을 작성하시오."
   ]
  },
  {
   "cell_type": "code",
   "execution_count": 2,
   "metadata": {},
   "outputs": [
    {
     "name": "stdout",
     "output_type": "stream",
     "text": [
      "Hello, world!\n"
     ]
    }
   ],
   "source": [
    "### Put your code here ##########\n",
    "print('Hello, world!') \n",
    "#################################"
   ]
  },
  {
   "cell_type": "markdown",
   "metadata": {},
   "source": [
    "# #Problem 2 (10 pts)\n",
    "P2_list의 원소 1과 2 사이에 string 'abc'를 추가하시오."
   ]
  },
  {
   "cell_type": "code",
   "execution_count": 3,
   "metadata": {},
   "outputs": [
    {
     "name": "stdout",
     "output_type": "stream",
     "text": [
      "[1, 'abc', 2, 3, 4, 5]\n"
     ]
    }
   ],
   "source": [
    "P2_list = [1, 2, 3, 4, 5]\n",
    "\n",
    "### Put your code here ##########\n",
    "P2_list.insert (1, 'abc')\n",
    "#################################\n",
    "\n",
    "print(P2_list)"
   ]
  },
  {
   "cell_type": "markdown",
   "metadata": {},
   "source": [
    "# #Problem 3 (10 pts)\n",
    "list [1, 2, 3]과 list [4, 5, 6]을 합쳐 [1, 2, 3, 4, 5, 6] list를 만드시오."
   ]
  },
  {
   "cell_type": "code",
   "execution_count": 4,
   "metadata": {},
   "outputs": [
    {
     "name": "stdout",
     "output_type": "stream",
     "text": [
      "[1, 2, 3, 4, 5, 6]\n"
     ]
    }
   ],
   "source": [
    "P3_list_1 = [1, 2, 3]\n",
    "P3_list_2 = [4, 5, 6]\n",
    "P3_list_concat = None\n",
    "\n",
    "### Put your code here ##########\n",
    "P3_list_concat = P3_list_1 + P3_list_2\n",
    "#################################\n",
    "\n",
    "print(P3_list_concat)"
   ]
  },
  {
   "cell_type": "markdown",
   "metadata": {},
   "source": [
    "# #Problem 4 (10 pts)\n",
    "2차원 numpy array에서 첫번째 column에 있는 값들을 1차원 numpy array 형태로 P4 변수에 저장하시오. (for문 사용 금지)"
   ]
  },
  {
   "cell_type": "code",
   "execution_count": 5,
   "metadata": {},
   "outputs": [
    {
     "name": "stdout",
     "output_type": "stream",
     "text": [
      "[1 4 7]\n"
     ]
    }
   ],
   "source": [
    "P4_array = np.array([[1,2,3],\n",
    "                     [4,5,6],\n",
    "                     [7,8,9]])\n",
    "P4 = None\n",
    "\n",
    "### Put your code here ##########\n",
    "P4 = P4_array [:,0]\n",
    "#################################\n",
    "\n",
    "print(P4)"
   ]
  },
  {
   "cell_type": "markdown",
   "metadata": {},
   "source": [
    "# #Problem 5 (30 pts)\n",
    "원소가 3개인 벡터가 두개 이상 담겨있는 numpy array를 input으로 받아, target 벡터 [1, 2, 3]과의 L2 distance가 큰 순서대로 벡터들을 내림차순 정렬하여 출력해주는 함수를 작성하시오.\n",
    "- for문 사용 금지\n",
    "- ex) input : [[1,2,3],[2,5,10],[2,4,3],[1,2,4]], output : [[2,5,10],[2,4,3],[1,2,4],[1,2,3]]\n",
    "- numpy의 broadcasting, shape, axis 개념, numpy의 다양한 연산 메소드들을 구글에 충분히 검색해볼 것."
   ]
  },
  {
   "cell_type": "code",
   "execution_count": 6,
   "metadata": {
    "scrolled": true
   },
   "outputs": [
    {
     "name": "stdout",
     "output_type": "stream",
     "text": [
      "[[ 2  5 10]\n",
      " [ 2  4  3]\n",
      " [ 1  2  4]\n",
      " [ 1  2  3]]\n"
     ]
    }
   ],
   "source": [
    "def Problem_5(input_arr):\n",
    "    target_vector = np.array([1, 2, 3])\n",
    "    sorted_arr = None\n",
    "    \n",
    "    ### Put your code here ##########\n",
    "    target_vector = target_vector - input_arr\n",
    "    target_vector = target_vector [:,0] * target_vector[:,0] + target_vector [:,1] * target_vector[:,1] + target_vector [:,2] * target_vector[:,2]\n",
    "    target_vector = np.array(target_vector).reshape(-1,1)\n",
    "    \n",
    "    sorted_arr = np.append (target_vector, input_arr, axis = 1)\n",
    "    sorted_arr = sorted_arr[sorted_arr[:,0].argsort()][::-1]\n",
    "    sorted_arr = sorted_arr [:,1:4]\n",
    "    #################################\n",
    "    \n",
    "    return sorted_arr\n",
    "\n",
    "test_arr = np.array([[1,2,3],\n",
    "                     [2,5,10],\n",
    "                     [2,4,3],\n",
    "                     [1,2,4]])\n",
    "print(Problem_5(test_arr))"
   ]
  },
  {
   "cell_type": "markdown",
   "metadata": {},
   "source": [
    "# #Problem 6 (30 pts)\n",
    "2차원 input array와 index array를 입력으로 받아, i번째 원소가 input array의 (i, index_array[i])번째 값인 1차원 numpy array를 출력하는 함수를 작성하시오.\n",
    "- for문 사용 금지\n",
    "- ex) input : [[1,2,3],[2,5,10],[2,4,3],[1,2,4]], [0,1,1,2], output : [1,5,4,4]"
   ]
  },
  {
   "cell_type": "code",
   "execution_count": 7,
   "metadata": {},
   "outputs": [
    {
     "name": "stdout",
     "output_type": "stream",
     "text": [
      "[1 5 4 4]\n"
     ]
    }
   ],
   "source": [
    "def Problem_6(input_arr, index_arr):\n",
    "    output_arr = None\n",
    "    \n",
    "    ### Put your code here ##########\n",
    "    output_arr = input_arr[range(input_arr.shape[0]),index_arr]\n",
    "    #################################\n",
    "    \n",
    "    return output_arr\n",
    "\n",
    "test_arr = np.array([[1,2,3],\n",
    "                     [2,5,10],\n",
    "                     [2,4,3],\n",
    "                     [1,2,4]])\n",
    "test_index = np.array([0,1,1,2])\n",
    "print(Problem_6(test_arr, test_index))"
   ]
  },
  {
   "cell_type": "code",
   "execution_count": null,
   "metadata": {},
   "outputs": [],
   "source": []
  }
 ],
 "metadata": {
  "kernelspec": {
   "display_name": "Python 3",
   "language": "python",
   "name": "python3"
  },
  "language_info": {
   "codemirror_mode": {
    "name": "ipython",
    "version": 3
   },
   "file_extension": ".py",
   "mimetype": "text/x-python",
   "name": "python",
   "nbconvert_exporter": "python",
   "pygments_lexer": "ipython3",
   "version": "3.8.5"
  }
 },
 "nbformat": 4,
 "nbformat_minor": 2
}
